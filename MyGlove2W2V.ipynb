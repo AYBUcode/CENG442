{
  "nbformat": 4,
  "nbformat_minor": 0,
  "metadata": {
    "colab": {
      "provenance": [],
      "machine_shape": "hm",
      "gpuType": "V28",
      "authorship_tag": "ABX9TyOII/3txnuQRhsVXh9yUXFI"
    },
    "kernelspec": {
      "name": "python3",
      "display_name": "Python 3"
    },
    "language_info": {
      "name": "python"
    },
    "accelerator": "TPU"
  },
  "cells": [
    {
      "cell_type": "code",
      "execution_count": null,
      "metadata": {
        "colab": {
          "base_uri": "https://localhost:8080/"
        },
        "id": "8OaBmNeIC1nv",
        "outputId": "95b58937-c65b-4359-9843-3af21b237370"
      },
      "outputs": [
        {
          "output_type": "stream",
          "name": "stdout",
          "text": [
            "Mounted at /content/drive\n"
          ]
        }
      ],
      "source": [
        "from gensim.scripts.glove2word2vec import glove2word2vec\n",
        "from gensim.models import KeyedVectors\n",
        "from google.colab import drive\n",
        "\n",
        "drive.mount('/content/drive')"
      ]
    },
    {
      "cell_type": "code",
      "source": [
        "glove_input_file = '/content/drive/My Drive/_CENG442/WordEmbeddings/data/glove.6B.100d.txt'\n",
        "word2vec_output_file = '/content/drive/My Drive/_CENG442/WordEmbeddings/data/glove.6B.100d.txt.word2vec'"
      ],
      "metadata": {
        "id": "2DE8XRQjDwXT"
      },
      "execution_count": null,
      "outputs": []
    },
    {
      "cell_type": "code",
      "source": [
        "glove2word2vec(glove_input_file, word2vec_output_file)"
      ],
      "metadata": {
        "colab": {
          "base_uri": "https://localhost:8080/"
        },
        "id": "94eHchATEaim",
        "outputId": "b9d3237c-a708-4eba-f904-4382f012738f"
      },
      "execution_count": null,
      "outputs": [
        {
          "output_type": "stream",
          "name": "stderr",
          "text": [
            "<ipython-input-3-063bce21512b>:1: DeprecationWarning: Call to deprecated `glove2word2vec` (KeyedVectors.load_word2vec_format(.., binary=False, no_header=True) loads GLoVE text vectors.).\n",
            "  glove2word2vec(glove_input_file, word2vec_output_file)\n"
          ]
        },
        {
          "output_type": "execute_result",
          "data": {
            "text/plain": [
              "(400000, 100)"
            ]
          },
          "metadata": {},
          "execution_count": 3
        }
      ]
    },
    {
      "cell_type": "code",
      "source": [
        "model = KeyedVectors.load_word2vec_format(word2vec_output_file, binary=False)"
      ],
      "metadata": {
        "id": "Ji08Ygo7FV12"
      },
      "execution_count": null,
      "outputs": []
    },
    {
      "cell_type": "code",
      "source": [
        "model[\"istanbul\"]"
      ],
      "metadata": {
        "colab": {
          "base_uri": "https://localhost:8080/"
        },
        "id": "fl_O7xRAFpgV",
        "outputId": "82d23707-b92f-4f44-cf0a-a0dd11348989"
      },
      "execution_count": null,
      "outputs": [
        {
          "output_type": "execute_result",
          "data": {
            "text/plain": [
              "array([ 0.40378  ,  0.019734 , -0.15499  , -0.26948  ,  0.33938  ,\n",
              "        0.46476  , -0.53141  ,  0.094519 ,  0.45399  ,  1.3385   ,\n",
              "        0.18271  , -0.3465   ,  0.28323  ,  0.70829  , -0.75002  ,\n",
              "        0.016359 , -0.64514  , -0.54882  , -0.75309  , -0.21617  ,\n",
              "        0.13678  , -0.25198  , -0.037552 ,  0.35938  , -0.33532  ,\n",
              "       -0.78733  ,  0.10907  , -0.13902  ,  0.53454  ,  0.58805  ,\n",
              "       -1.1348   , -0.14574  ,  0.20244  ,  0.81909  , -0.27482  ,\n",
              "        0.14045  ,  0.68814  ,  0.70236  , -0.34211  , -0.62128  ,\n",
              "       -0.10601  , -0.62413  ,  0.30536  , -0.44325  ,  0.64016  ,\n",
              "        0.0020673,  0.88252  ,  0.050356 , -0.35739  ,  0.54686  ,\n",
              "        0.11974  , -0.12593  ,  0.74211  ,  0.65482  , -1.4018   ,\n",
              "       -1.1218   , -0.21188  ,  0.35338  ,  0.53459  ,  0.20205  ,\n",
              "       -0.86132  ,  0.82773  , -0.10065  , -0.19766  , -0.85631  ,\n",
              "        0.27891  , -1.3381   ,  0.19368  , -0.70602  ,  0.067972 ,\n",
              "       -0.80953  , -0.65974  ,  0.50856  , -0.020009 , -0.7665   ,\n",
              "       -0.21865  ,  0.11584  , -0.23323  , -0.73037  ,  0.25433  ,\n",
              "        0.51655  , -0.031959 , -0.34603  ,  0.016619 ,  0.36089  ,\n",
              "       -0.25636  , -0.86198  , -0.16575  , -0.084256 ,  0.21918  ,\n",
              "        0.7003   ,  0.14982  , -0.083508 , -0.16968  , -0.5801   ,\n",
              "        0.96829  ,  0.40106  ,  0.16945  ,  0.74681  ,  0.26952  ],\n",
              "      dtype=float32)"
            ]
          },
          "metadata": {},
          "execution_count": 5
        }
      ]
    },
    {
      "cell_type": "code",
      "source": [
        "model.most_similar(\"elephant\")"
      ],
      "metadata": {
        "colab": {
          "base_uri": "https://localhost:8080/"
        },
        "id": "o59gPeIAF3Cr",
        "outputId": "27c84682-43a1-44db-fd89-5e20f22c0fae"
      },
      "execution_count": null,
      "outputs": [
        {
          "output_type": "execute_result",
          "data": {
            "text/plain": [
              "[('elephants', 0.7784793972969055),\n",
              " ('rhinoceros', 0.6991153955459595),\n",
              " ('rhino', 0.6805171370506287),\n",
              " ('lion', 0.6701437830924988),\n",
              " ('deer', 0.6536865830421448),\n",
              " ('boar', 0.6475318074226379),\n",
              " ('monkey', 0.6434566974639893),\n",
              " ('animal', 0.6378892660140991),\n",
              " ('cat', 0.6372530460357666),\n",
              " ('tusks', 0.6338284611701965)]"
            ]
          },
          "metadata": {},
          "execution_count": 8
        }
      ]
    },
    {
      "cell_type": "code",
      "source": [
        "model.most_similar(positive=['teach', 'doctor'], negative=['treat'], topn=1)"
      ],
      "metadata": {
        "colab": {
          "base_uri": "https://localhost:8080/"
        },
        "id": "9_U4Bx7ZGET-",
        "outputId": "1f2afa39-b670-432d-b29a-bd56f95e3f79"
      },
      "execution_count": null,
      "outputs": [
        {
          "output_type": "execute_result",
          "data": {
            "text/plain": [
              "[('teacher', 0.7610154151916504)]"
            ]
          },
          "metadata": {},
          "execution_count": 15
        }
      ]
    },
    {
      "cell_type": "code",
      "source": [],
      "metadata": {
        "id": "kmROUphWG7m-"
      },
      "execution_count": null,
      "outputs": []
    }
  ]
}