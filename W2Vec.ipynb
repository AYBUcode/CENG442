{
  "nbformat": 4,
  "nbformat_minor": 0,
  "metadata": {
    "colab": {
      "provenance": [],
      "machine_shape": "hm",
      "gpuType": "V28",
      "authorship_tag": "ABX9TyMwzgcoDyLWRT8/PCPs6CVI",
      "include_colab_link": true
    },
    "kernelspec": {
      "name": "python3",
      "display_name": "Python 3"
    },
    "language_info": {
      "name": "python"
    },
    "accelerator": "TPU"
  },
  "cells": [
    {
      "cell_type": "markdown",
      "metadata": {
        "id": "view-in-github",
        "colab_type": "text"
      },
      "source": [
        "<a href=\"https://colab.research.google.com/github/AYBUcode/CENG442/blob/main/W2Vec.ipynb\" target=\"_parent\"><img src=\"https://colab.research.google.com/assets/colab-badge.svg\" alt=\"Open In Colab\"/></a>"
      ]
    },
    {
      "cell_type": "code",
      "execution_count": 1,
      "metadata": {
        "id": "ZfqkjGGtFQIm"
      },
      "outputs": [],
      "source": [
        "import numpy as np\n",
        "from gensim.models import Word2Vec\n",
        "from sklearn.manifold import TSNE\n",
        "import matplotlib.pyplot as plt\n",
        "from google.colab import drive"
      ]
    },
    {
      "cell_type": "code",
      "source": [
        "drive.mount('/content/drive')"
      ],
      "metadata": {
        "colab": {
          "base_uri": "https://localhost:8080/"
        },
        "id": "CVEspf_SGpFH",
        "outputId": "9ce69861-e280-4e01-b906-8c90e3e29918"
      },
      "execution_count": 2,
      "outputs": [
        {
          "output_type": "stream",
          "name": "stdout",
          "text": [
            "Mounted at /content/drive\n"
          ]
        }
      ]
    },
    {
      "cell_type": "code",
      "source": [
        "f = open('/content/drive/My Drive/_CENG442/WordEmbeddings/data/hurriyet.txt', 'r', encoding='utf-8')\n",
        "data = f.read()"
      ],
      "metadata": {
        "id": "WhxaKPP4G1k3"
      },
      "execution_count": 3,
      "outputs": []
    },
    {
      "cell_type": "code",
      "source": [
        "sentences = data.split('\\n')"
      ],
      "metadata": {
        "id": "4fO5zth7HoVR"
      },
      "execution_count": 4,
      "outputs": []
    },
    {
      "cell_type": "code",
      "source": [
        "tokens = []\n",
        "for sentence in sentences:\n",
        "  tokens.append(sentence.split(' '))"
      ],
      "metadata": {
        "id": "9e66dnU6H8KI"
      },
      "execution_count": 5,
      "outputs": []
    },
    {
      "cell_type": "code",
      "source": [
        "print(tokens[:10])"
      ],
      "metadata": {
        "colab": {
          "base_uri": "https://localhost:8080/"
        },
        "id": "JYvw-MXhIT6f",
        "outputId": "ad56bfa1-9b5f-4e0f-aa84-4b448b37250d"
      },
      "execution_count": 6,
      "outputs": [
        {
          "output_type": "stream",
          "name": "stdout",
          "text": [
            "[['iran', 'devlet', 'televizyonu', 'ülkedeki', 'eyaletin', 'sinde', 'yapılan', 'reformcuları', 'protesto', 'amaçlı', 'yürüyüşlere', 'milyonlarca', 'kişinin', 'katıldığını', 'bildirdi', ''], ['gösterilerde', 'fitnecilere', 'ölüm', 'münafıklara', 'ölüm', 'abd', 'ye', 'ölüm', 'ingiltere', 'ye', 'ölüm', 'sloganları', 'atıldı', ''], ['dini', 'lider', 'ali', 'hamaney', 've', 'cumhurbaşkanı', 'mahmud', 'ahmedinejad', 'ı', 'destekleyen', 'iranlılar', 'son', 'olaylarda', 'yeğeni', 'öldürülen', 'mir', 'hüseyin', 'musevi', 'başta', 'olmak', 'üzere', 'muhalefet', 'liderlerini', 'kınadılar', ''], ['musevi', 'ye', 'ölüm', 've', 'idam', 'idam', 'sloganları', 'duyuldu', ''], ['muhalefet', 'liderleri', 'kaçtı', 'mı', 'aşure', 'günü', 'yaşanan', 'çatışmalarda', 'devlet', 'kaynaklarına', 'göre', 'u', 'terörist', 'olmak', 'üzere', 'kişi', 'ölmüştü', ''], ['den', 'fazla', 'kişinin', 'yaralandığı', 'olaylar', 'sırasında', 'en', 'az', 'kişi', 'tutuklanmıştı', ''], ['öte', 'yandan', 'iran', 'haber', 'ajansı', 'irna', 'muhalif', 'liderler', 'mir', 'hüseyin', 'musevi', 've', 'mehdi', 'kerrubi', 'nin', 'başkentten', 'kaçarak', 'ülkenin', 'kuzeyine', 'geçtiğini', 'ileri', 'sürdü', 'ancak', 'muhalefet', 'iddiayı', 'yalanladı', ''], ['hamaney', 'in', 'bir', 'dönem', 'korumalığını', 'yapan', 've', 'şu', 'anda', 'fransa', 'da', 'saklandığı', 'söylenen', 'bir', 'kişinin', 'muhalefete', 'verdiği', 'bilgilere', 'göre', 'münzevi', 'yaşamı', 'na', 'rağmen', 'dini', 'liderin', 'havyara', 'karşı', 'korkunç', 'bir', 'iştahı', 'var', ''], ['baston', 've', 'at', 'meraklısı', 'hamaney', 'aynı', 'zamanda', 'değerli', 'mücevherlerle', 'bezenmiş', 'bastonların', 've', 'cins', 'atların', 'koleksiyonunu', 'yapıyor', ''], ['hamaney', 'in', 'antika', 'bastonlarının', 'sayısı', '']]\n"
          ]
        }
      ]
    },
    {
      "cell_type": "code",
      "source": [
        "%%time\n",
        "model = Word2Vec(tokens, vector_size=100, window=5, min_count=5, sg = 1)"
      ],
      "metadata": {
        "id": "yloZRfBWI_Du",
        "colab": {
          "base_uri": "https://localhost:8080/"
        },
        "outputId": "02b0162c-2869-4d44-cd31-12aa50bff1e4"
      },
      "execution_count": 7,
      "outputs": [
        {
          "output_type": "stream",
          "name": "stdout",
          "text": [
            "CPU times: user 5min 48s, sys: 401 ms, total: 5min 48s\n",
            "Wall time: 1min 58s\n"
          ]
        }
      ]
    },
    {
      "cell_type": "code",
      "source": [
        "model.wv['bakü']"
      ],
      "metadata": {
        "colab": {
          "base_uri": "https://localhost:8080/"
        },
        "id": "MZXVgEz2JJo9",
        "outputId": "0f44867d-6502-4e1f-ceeb-1d95646eb157"
      },
      "execution_count": 8,
      "outputs": [
        {
          "output_type": "execute_result",
          "data": {
            "text/plain": [
              "array([-0.54653805,  0.86319476, -0.2867717 , -0.6141506 ,  0.26964545,\n",
              "       -0.33198076, -0.10602397,  0.36297843,  0.5387269 , -0.02220936,\n",
              "       -0.07488205, -0.4079408 ,  0.0831537 , -0.13824648, -0.38368642,\n",
              "       -0.40576512,  0.3359624 , -0.8183268 ,  0.46351177, -0.4711606 ,\n",
              "        0.08857927,  0.01479182,  0.26370782,  0.05176068, -0.41239107,\n",
              "        0.04835552,  0.02096973, -0.49762434,  0.17982298,  0.02743317,\n",
              "        0.31291932,  0.16690877, -0.04679613,  0.02536806, -0.47916788,\n",
              "        0.25721028, -0.12544699, -0.18596725, -0.17591307, -0.8369018 ,\n",
              "        0.09036357,  0.17878136,  0.2941833 ,  0.5787914 , -0.24696153,\n",
              "        0.0328554 , -0.17145771,  0.17694469,  0.15988913,  0.41812938,\n",
              "       -0.21624126, -0.2469924 , -0.57198244, -0.64302516, -0.06848314,\n",
              "        0.00296952, -0.3526262 ,  0.01444054,  0.08289319, -0.5728105 ,\n",
              "       -0.29006502,  0.3045259 ,  0.38000065, -0.3150611 ,  0.10257918,\n",
              "       -0.25534078,  0.15944837,  0.6033515 , -0.6861784 , -0.06058693,\n",
              "       -0.41534114, -0.13702652,  0.14549686, -0.05142247, -0.07865751,\n",
              "       -0.3639578 , -0.42612836, -0.05925113, -0.08485205,  0.25224698,\n",
              "        0.0260372 ,  0.5318557 ,  0.4552499 ,  0.52056015, -0.43888667,\n",
              "       -0.31445643,  0.18662126,  0.69980794,  0.54529417, -0.27045932,\n",
              "        0.47270203, -0.2080084 ,  0.10179946,  0.41356787,  0.44723275,\n",
              "       -0.18268265,  0.49300683, -0.12672609,  0.07125214,  0.15082455],\n",
              "      dtype=float32)"
            ]
          },
          "metadata": {},
          "execution_count": 8
        }
      ]
    },
    {
      "cell_type": "code",
      "source": [
        "model.wv.most_similar('azerbaycan')"
      ],
      "metadata": {
        "colab": {
          "base_uri": "https://localhost:8080/"
        },
        "id": "_Xf-YXIGKt7g",
        "outputId": "d6abb1ab-0a95-4d6b-d2cb-325632c3381a"
      },
      "execution_count": 11,
      "outputs": [
        {
          "output_type": "execute_result",
          "data": {
            "text/plain": [
              "[('ermenistan', 0.8848831653594971),\n",
              " ('karabağ', 0.7572548985481262),\n",
              " ('gürcistan', 0.7422584891319275),\n",
              " ('aliyev', 0.7253757119178772),\n",
              " ('serj', 0.7209238409996033),\n",
              " ('azeri', 0.7097316384315491),\n",
              " ('kelbecer', 0.6990893483161926),\n",
              " ('hasanov', 0.6985568404197693),\n",
              " ('oganyan', 0.6982322931289673),\n",
              " ('sarkisyan', 0.6920871734619141)]"
            ]
          },
          "metadata": {},
          "execution_count": 11
        }
      ]
    },
    {
      "cell_type": "code",
      "source": [
        "model.save('/content/drive/My Drive/_CENG442/WordEmbeddings/data/hurriyet.model')"
      ],
      "metadata": {
        "id": "db-rof6XK9As"
      },
      "execution_count": null,
      "outputs": []
    },
    {
      "cell_type": "code",
      "source": [
        "model = Word2Vec.load('/content/drive/My Drive/_CENG442/WordEmbeddings/data/hurriyet.model')"
      ],
      "metadata": {
        "id": "gVvHxqTvLcCp"
      },
      "execution_count": null,
      "outputs": []
    },
    {
      "cell_type": "code",
      "source": [
        "def tsnePlot_drawer(mdoel, word):\n",
        "  tsne = TSNE(n_components=2)\n",
        "  vectors = np.empty((0, 100))\n",
        "  words = [word]\n",
        "\n",
        "  similar_words = model.wv.most_similar(word)\n",
        "\n",
        "  vectors = np.append(vectors, np.array([model.wv[word]]), axis=0)\n",
        "\n",
        "\n",
        "  for w, _ in similar_words:\n",
        "    words.append(w)\n",
        "    vectors = np.append(vectors, np.array([model.wv[w]]) , axis=0)\n",
        "\n",
        "  tsne = TSNE(random_state=0, perplexity=5)\n",
        "\n",
        "  Y = tsne.fit_transform(vectors)\n",
        "\n",
        "  x_coordinate = Y[:, 0]\n",
        "  y_coordinate = Y[:, 1]\n",
        "\n",
        "  plt.scatter(x_coordinate, y_coordinate)\n",
        "\n",
        "  for label, x, y in zip(words, x_coordinate, y_coordinate):\n",
        "    plt.annotate(label, xy=(x, y), xytext=(6, -2), textcoords='offset points')\n",
        "  plt.show()\n",
        "\n"
      ],
      "metadata": {
        "id": "8W5GwES2Lk3z"
      },
      "execution_count": 12,
      "outputs": []
    },
    {
      "cell_type": "code",
      "source": [
        "tsnePlot_drawer(model, 'istanbul')"
      ],
      "metadata": {
        "colab": {
          "base_uri": "https://localhost:8080/",
          "height": 430
        },
        "id": "j7QpXE5GQXYg",
        "outputId": "ef45239a-edb3-418d-8876-f0af0d43da9e"
      },
      "execution_count": 19,
      "outputs": [
        {
          "output_type": "display_data",
          "data": {
            "text/plain": [
              "<Figure size 640x480 with 1 Axes>"
            ],
            "image/png": "[encoded data removed]"
          },
          "metadata": {}
        }
      ]
    },
    {
      "cell_type": "code",
      "source": [],
      "metadata": {
        "id": "rYLdBzN6QqZ1"
      },
      "execution_count": null,
      "outputs": []
    }
  ]
}